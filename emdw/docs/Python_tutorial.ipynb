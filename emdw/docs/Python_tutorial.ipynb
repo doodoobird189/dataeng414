{
 "cells": [
  {
   "cell_type": "markdown",
   "metadata": {},
   "source": [
    "# A Short  Introduction to Python, iPython and Jupyter"
   ]
  },
  {
   "cell_type": "markdown",
   "metadata": {},
   "source": [
    "### Markdown.\n",
    "\n",
    "\"Markdown\" allows you to write simple, easy-to-understand text that is then converted to html. Apart from allowing you to create beautiful web pages, it also understands LaTeX. One can therefore create mathematics such as, \n",
    " $$ I = \\int_0^1 e^{-x^2} dx. $$ \n",
    " Unfortunately it does not understand all LaTeX commands but Nelis Willers has developed an extension that will give you access to all LaTeX facilities. It is worth visiting his github repository at https://github.com/NelisW?tab=repositories\n",
    "\n",
    "You can  learn more about markdown at  https://help.github.com/articles/markdown-basics/."
   ]
  },
  {
   "cell_type": "markdown",
   "metadata": {},
   "source": [
    "### Very general overview\n",
    "Python itself gives one access to basic, built-in data structures. It also provides basic functionality like  'while' statemens, functions and classes (with particularly simple syntax). It does not, for example, allow any matrix operations. In fact it does not understand the concept of a matrix.\n",
    "Its real power derives from the large number of external libraries that are available. One gets access to the functionaly built into the libraries by 'importing' the libraries. The three most important ones for scientic purposes are:\n",
    "* **numpy** (A library that allows for definition and manipulation of matrices)\n",
    "* **scipy** (The scientific Python library. Note that there is a huge overlap with numpy. As a rule of thumb: If it is available in numpy, use the numpy functionality.)\n",
    "The full numpy and scipy documentation is at http://docs.scipy.org/doc/\n",
    "* **matplotlib** (A plotting library with, as the name suggests, plotting functions that mimics what is available in matlab). A user's guide is at http://matplotlib.org/1.5.0/users/index.html\n",
    "\n",
    "\n",
    "You will also find a symbolic library, libraries for image processing, machine learning, interfacing with your browser, bluetooth, and too many to even scratch the surface.\n",
    "\n",
    "I should also mention **pandas**, a data analysis toolkit. More information is at http://pandas.pydata.org/pandas-docs/stable/"
   ]
  },
  {
   "cell_type": "markdown",
   "metadata": {},
   "source": [
    "### Developing your own code\n",
    "\n",
    "Since the notebook is a document that is supposed to readable, it is not the place to put large amounts of code. Of course you will eventually develop more complex code and the way to do it, is to put is into a seperate file with extension `.py`. This file can be as complex as you need it to be, i.e. it can contain any amount of code, broken down into several different functions, classes, etc. But it is a good idea to organise your code into coherent units (`.py` files).\n",
    "\n",
    "You get hold of your code in the notebook by importing it, exactly as we import the numpy library below."
   ]
  },
  {
   "cell_type": "markdown",
   "metadata": {},
   "source": [
    "### So what is iPython?\n",
    "\n",
    "It is basically an environment for interactive computing using Python, here one should really mention the name of Fernando Perez who had the vision and did something about it (while procrastinating fromhis PhD!). The notebook is more recent and at first was tied closely to iPython. It was then realized that the notebook part is really language agnostic, at which time it became a separate project independent of Python called Jupyter. iPython continues to provide a Python kernel for Jupyter. Please visit the iPython webpage at http://ipython.org/ where you will find all sorts of useful material, including several tutorials."
   ]
  },
  {
   "cell_type": "markdown",
   "metadata": {},
   "source": [
    "### Magic commands\n",
    "You have a number of \"magic\" commands available that basically tells the notebook how to behave.\n",
    "The one we use most often tells the notebook that all figures should be part of the notebook, i.e. they should not open in separate windows:"
   ]
  },
  {
   "cell_type": "code",
   "execution_count": 1,
   "metadata": {},
   "outputs": [],
   "source": [
    "%matplotlib inline "
   ]
  },
  {
   "cell_type": "markdown",
   "metadata": {},
   "source": [
    "### Importing libraries or files. \n",
    "\n",
    "Here we import the libraries scientists use all the time \n",
    "\n"
   ]
  },
  {
   "cell_type": "code",
   "execution_count": 2,
   "metadata": {},
   "outputs": [],
   "source": [
    "import numpy as np\n",
    "import scipy as sc\n",
    "from matplotlib import pylab as plt"
   ]
  },
  {
   "cell_type": "markdown",
   "metadata": {},
   "source": [
    "### Inside the libraries\n",
    "\n",
    "How do I get ti find out what I can with these libraries? First there is the documentation of course, with the links given above. But iPython provides a convenient interactive way. \n",
    "\n",
    "To see what is inside the numpy library, type (in a code cell), `np.<tab>`. You should see a (very long) list containing all the attributes of the library. \n",
    "\n",
    "Now let us say you are interested in learning more about `np.array`. In a code cell type `np.array?` and execute the cell. The documentation of the function should appear in your browser.\n",
    "\n",
    "By the way, it is useful to learn the shortcuts for the instructions you execute most frequently. All shortcuts are available under the `help` button."
   ]
  },
  {
   "cell_type": "markdown",
   "metadata": {},
   "source": [
    "### First example.\n",
    "\n",
    "Let us go straight to a simple example."
   ]
  },
  {
   "cell_type": "code",
   "execution_count": 3,
   "metadata": {},
   "outputs": [
    {
     "data": {
      "image/png": "[encoded data removed]",
      "text/plain": [
       "<matplotlib.figure.Figure at 0x106d56eb8>"
      ]
     },
     "metadata": {},
     "output_type": "display_data"
    }
   ],
   "source": [
    "x = np.linspace(0.,2*np.pi,100)\n",
    "y = np.sin(x)\n",
    "plt.plot(x,y)\n",
    "plt.show()"
   ]
  },
  {
   "cell_type": "markdown",
   "metadata": {},
   "source": [
    "### Everything is an object\n",
    "\n",
    "In Python everything is an object, including the two 'variables' $x$ and $y$ we defined above. Objects have methods (behaving like functions) and attributed associated with them. This basically means that there is functionality associated with an object that allows us to manipulate the objects (like multiplying two arrays), or retrieving  information about the object. \n",
    "\n",
    "In order to find out what attributes are associated with, say $y$, type `y.<tab>` in a code cell. You should see a fairly long list of attributes. Let us try two of them:"
   ]
  },
  {
   "cell_type": "code",
   "execution_count": 4,
   "metadata": {},
   "outputs": [
    {
     "data": {
      "text/plain": [
       "(100,)"
      ]
     },
     "execution_count": 4,
     "metadata": {},
     "output_type": "execute_result"
    }
   ],
   "source": [
    "y.shape"
   ]
  },
  {
   "cell_type": "code",
   "execution_count": 5,
   "metadata": {},
   "outputs": [
    {
     "data": {
      "text/plain": [
       "49.5"
      ]
     },
     "execution_count": 5,
     "metadata": {},
     "output_type": "execute_result"
    }
   ],
   "source": [
    "y.dot(y)"
   ]
  },
  {
   "cell_type": "markdown",
   "metadata": {},
   "source": [
    "Do you see the difference between the two. The first, `y.shape`, returns attributes associated with the object (useful information about the object); in this case it tells us that it is a $3\\times 1$ array, i.e. a column vector. \n",
    "\n",
    "The second `y.dot(y)` is a method that operates on $y$. The method takes an argument, and in that sense behaves like a function. The difference between a `method` and a `function` is that a `method` has an argument, usually called `self`, that binds it to the object. A function is not bound to an object and does not have the special `self` parameter. In this example the `dot` method  calculates the dot product between $y$ and $y$ (i.e. $y$ with itself).\n",
    "\n",
    "**Note:** `attribute` is actually the collective name for both methods as well as the variables living inside an object. In our use we try and be precise when we mean `method` and use `attribute` for the everythig else."
   ]
  },
  {
   "cell_type": "markdown",
   "metadata": {},
   "source": [
    "** Python 2.7 used integer division, i.e. 1/2 = 0. This is changed in Python 3.5: **\n",
    "\n",
    "Unless you have had some exposure to Python 2.7, this will probably irrelevant to you."
   ]
  },
  {
   "cell_type": "code",
   "execution_count": 6,
   "metadata": {},
   "outputs": [
    {
     "name": "stdout",
     "output_type": "stream",
     "text": [
      "0.5\n",
      "0.5\n"
     ]
    }
   ],
   "source": [
    "print (1/2)\n",
    "print (1./2)"
   ]
  },
  {
   "cell_type": "markdown",
   "metadata": {},
   "source": [
    "### Indentation. \n",
    "\n",
    "Indentation is one of the more unusual features of Python. If you are like me, you will learn to like it! By the way, it is not recommended that you do the indentation using the `<tab>` key as it is encoded differently (using different ascii characters) on different systems, or so I am told. Safer to use spaces and although the number of spaces to use is not prescribed, 4 spaces is pretty standard.\n",
    "\n",
    "To be more specific: Code blocks are indicated by indentation. There are no commands like, `begin` or  `end`. What happens is that the colon indicates that a code block is following. Many editors, and Jupyter in particular, understands this and will automatically do the indentation for you. All you have to do is to tell it when to stop. \n",
    "\n",
    "Let's look at the following examples. "
   ]
  },
  {
   "cell_type": "code",
   "execution_count": 7,
   "metadata": {},
   "outputs": [
    {
     "name": "stdout",
     "output_type": "stream",
     "text": [
      "0\n",
      "1\n",
      "2\n",
      "3\n",
      "4\n",
      "5\n",
      "6\n",
      "7\n",
      "8\n",
      "9\n"
     ]
    }
   ],
   "source": [
    "x = 0\n",
    "while x<10:\n",
    "    print (x)\n",
    "    x += 1"
   ]
  },
  {
   "cell_type": "code",
   "execution_count": 8,
   "metadata": {},
   "outputs": [
    {
     "name": "stdout",
     "output_type": "stream",
     "text": [
      "0\n",
      "1\n",
      "2\n",
      "3\n",
      "4\n",
      "5\n",
      "6\n",
      "7\n",
      "8\n",
      "9\n"
     ]
    }
   ],
   "source": [
    "for x in range(10):\n",
    "    print (x)"
   ]
  },
  {
   "cell_type": "markdown",
   "metadata": {},
   "source": [
    "### Functions\n",
    "\n",
    "This is how we define a function. Note that we have assigned a default value to $x$. This is not necessary but useful. If you don't specify a value, the default is used."
   ]
  },
  {
   "cell_type": "code",
   "execution_count": 9,
   "metadata": {},
   "outputs": [
    {
     "data": {
      "image/png": "[encoded data removed]",
      "text/plain": [
       "<matplotlib.figure.Figure at 0x106d56d30>"
      ]
     },
     "metadata": {},
     "output_type": "display_data"
    }
   ],
   "source": [
    "def f(x=1):\n",
    "    y = x**2\n",
    "    return y\n",
    "\n",
    "x = np.asarray(range(20))\n",
    "y = f(x)\n",
    "plt.plot(x,y)\n",
    "plt.show()"
   ]
  },
  {
   "cell_type": "markdown",
   "metadata": {},
   "source": [
    "### Using the default value"
   ]
  },
  {
   "cell_type": "code",
   "execution_count": 10,
   "metadata": {},
   "outputs": [
    {
     "name": "stdout",
     "output_type": "stream",
     "text": [
      "1\n"
     ]
    }
   ],
   "source": [
    "print (f())"
   ]
  },
  {
   "cell_type": "markdown",
   "metadata": {},
   "source": [
    "### Data structures\n",
    "Python has very useful data structures.\n",
    "\n",
    "The simplest data structure is the tuple. You can access its entries, but you can't change them. You will most often encounter them as the return of a function call. Earlier we defined a numpy array which we called x. Let us try the following:"
   ]
  },
  {
   "cell_type": "code",
   "execution_count": 11,
   "metadata": {},
   "outputs": [
    {
     "data": {
      "text/plain": [
       "(20,)"
      ]
     },
     "execution_count": 11,
     "metadata": {},
     "output_type": "execute_result"
    }
   ],
   "source": [
    "x.shape     "
   ]
  },
  {
   "cell_type": "markdown",
   "metadata": {},
   "source": [
    "### Tuples\n",
    "The return is a tuple. It tells us that x is one-dimensional, and has 4 entries. Now try:"
   ]
  },
  {
   "cell_type": "code",
   "execution_count": 12,
   "metadata": {},
   "outputs": [
    {
     "name": "stdout",
     "output_type": "stream",
     "text": [
      "(20,)\n",
      "20\n"
     ]
    }
   ],
   "source": [
    "m = x.shape\n",
    "print (m)\n",
    "print (m[0])"
   ]
  },
  {
   "cell_type": "markdown",
   "metadata": {},
   "source": [
    "Do you see the difference between m and m[0]? \n",
    "### Note: \n",
    "* **Labeling in Python starts at 0**\n",
    "* Remember the comma if you want to define a tuple with only one entry!"
   ]
  },
  {
   "cell_type": "markdown",
   "metadata": {},
   "source": [
    "### Lists\n",
    "The next  useful datastructure is the list:"
   ]
  },
  {
   "cell_type": "code",
   "execution_count": 13,
   "metadata": {},
   "outputs": [],
   "source": [
    "numbers = [1.,2.,3.,4.,5.]"
   ]
  },
  {
   "cell_type": "markdown",
   "metadata": {},
   "source": [
    "### A small detour\n",
    "\n",
    "Convert to numpy array"
   ]
  },
  {
   "cell_type": "code",
   "execution_count": 14,
   "metadata": {},
   "outputs": [
    {
     "name": "stdout",
     "output_type": "stream",
     "text": [
      "float64\n"
     ]
    }
   ],
   "source": [
    "numbers = np.asarray(numbers)\n",
    "print (numbers.dtype)"
   ]
  },
  {
   "cell_type": "markdown",
   "metadata": {},
   "source": [
    "Convert to integers:"
   ]
  },
  {
   "cell_type": "code",
   "execution_count": 15,
   "metadata": {},
   "outputs": [
    {
     "name": "stdout",
     "output_type": "stream",
     "text": [
      "int64\n"
     ]
    }
   ],
   "source": [
    "numbers = np.asarray(numbers, dtype=int)\n",
    "print (numbers.dtype)"
   ]
  },
  {
   "cell_type": "markdown",
   "metadata": {},
   "source": [
    "### Back to lists\n",
    "First redefine `numbers` as a list"
   ]
  },
  {
   "cell_type": "code",
   "execution_count": 16,
   "metadata": {
    "collapsed": true
   },
   "outputs": [],
   "source": [
    "numbers = [1.,2.,3.,4.,5.]"
   ]
  },
  {
   "cell_type": "markdown",
   "metadata": {},
   "source": [
    "\n",
    "### A few useful list operations:\n",
    "\n",
    "The first  is unxpected but useful. It also means that a list behaves very differently from matrices (numpy arrays)."
   ]
  },
  {
   "cell_type": "code",
   "execution_count": 17,
   "metadata": {},
   "outputs": [
    {
     "name": "stdout",
     "output_type": "stream",
     "text": [
      "[1.0, 2.0, 3.0, 4.0, 5.0, 1.0, 2.0, 3.0, 4.0, 5.0]\n",
      "[1.0, 2.0, 3.0, 4.0, 5.0, 1.0, 2.0, 3.0, 4.0, 5.0]\n"
     ]
    }
   ],
   "source": [
    "print (numbers+numbers)\n",
    "print (2*numbers)\n"
   ]
  },
  {
   "cell_type": "markdown",
   "metadata": {},
   "source": [
    "### Slicing:"
   ]
  },
  {
   "cell_type": "code",
   "execution_count": 18,
   "metadata": {},
   "outputs": [
    {
     "name": "stdout",
     "output_type": "stream",
     "text": [
      "[1.0, 2.0]\n"
     ]
    }
   ],
   "source": [
    "print (numbers[:2]) # print the first two entries"
   ]
  },
  {
   "cell_type": "code",
   "execution_count": 19,
   "metadata": {},
   "outputs": [
    {
     "name": "stdout",
     "output_type": "stream",
     "text": [
      "[3.0, 4.0]\n"
     ]
    }
   ],
   "source": [
    "print (numbers[2:4]) #Here you need to remember that indexing starts at 0."
   ]
  },
  {
   "cell_type": "code",
   "execution_count": 20,
   "metadata": {},
   "outputs": [
    {
     "name": "stdout",
     "output_type": "stream",
     "text": [
      "[4.0, 5.0]\n"
     ]
    }
   ],
   "source": [
    "print (numbers[3:]) # Print from the 3rd index until the end"
   ]
  },
  {
   "cell_type": "code",
   "execution_count": 21,
   "metadata": {},
   "outputs": [
    {
     "name": "stdout",
     "output_type": "stream",
     "text": [
      "5.0\n",
      "4.0\n"
     ]
    }
   ],
   "source": [
    "print (numbers[-1]) # Print the last entry\n",
    "print (numbers[-2]) # Print the second last entry"
   ]
  },
  {
   "cell_type": "code",
   "execution_count": 22,
   "metadata": {},
   "outputs": [
    {
     "name": "stdout",
     "output_type": "stream",
     "text": [
      "5\n"
     ]
    }
   ],
   "source": [
    "print (len(numbers))"
   ]
  },
  {
   "cell_type": "code",
   "execution_count": 23,
   "metadata": {},
   "outputs": [
    {
     "name": "stdout",
     "output_type": "stream",
     "text": [
      "[1.0, 2.0, 3.0, 4.0, 5.0, 10.0]\n"
     ]
    }
   ],
   "source": [
    "numbers.append(10.) # Add 10 to the end of the list\n",
    "print (numbers)"
   ]
  },
  {
   "cell_type": "markdown",
   "metadata": {},
   "source": [
    "### Dictionaries\n",
    "One of Python's unique features is the built-in dictionary.\n",
    "\n",
    "Dictionaries consist  of a `key` and an associated `value`. Let us try a simple example. We want to save the phone numbers and age of Bob, Ted and Alice. We create a dictionary with keys, Bob, Ted, and Alice. Each value asociated with a key is another dictionary with its own keys, phone, and age, with their respective values:"
   ]
  },
  {
   "cell_type": "code",
   "execution_count": 24,
   "metadata": {},
   "outputs": [],
   "source": [
    "people ={'Bob' : {'age' : 40 ,'phone' : '021'}, 'Ted' : {'age' : 50,'phone' : '012'}, 'Alice' : {'age' : 29, 'phone' : '051'}}"
   ]
  },
  {
   "cell_type": "code",
   "execution_count": 25,
   "metadata": {},
   "outputs": [
    {
     "data": {
      "text/plain": [
       "{'age': 40, 'phone': '021'}"
      ]
     },
     "execution_count": 25,
     "metadata": {},
     "output_type": "execute_result"
    }
   ],
   "source": [
    "people['Bob']"
   ]
  },
  {
   "cell_type": "code",
   "execution_count": 26,
   "metadata": {},
   "outputs": [
    {
     "data": {
      "text/plain": [
       "50"
      ]
     },
     "execution_count": 26,
     "metadata": {},
     "output_type": "execute_result"
    }
   ],
   "source": [
    "people['Ted']['age']"
   ]
  },
  {
   "cell_type": "code",
   "execution_count": 27,
   "metadata": {},
   "outputs": [
    {
     "data": {
      "text/plain": [
       "dict_keys(['Alice', 'Ted', 'Bob'])"
      ]
     },
     "execution_count": 27,
     "metadata": {},
     "output_type": "execute_result"
    }
   ],
   "source": [
    "people.keys()  # Retrieving the keys"
   ]
  },
  {
   "cell_type": "code",
   "execution_count": 28,
   "metadata": {
    "collapsed": true
   },
   "outputs": [],
   "source": [
    "people['Ben'] = {'age': 100,'phone':'082'}   # Adding a new entry into the dictionary"
   ]
  },
  {
   "cell_type": "code",
   "execution_count": 29,
   "metadata": {},
   "outputs": [
    {
     "data": {
      "text/plain": [
       "dict_keys(['Alice', 'Ted', 'Bob', 'Ben'])"
      ]
     },
     "execution_count": 29,
     "metadata": {},
     "output_type": "execute_result"
    }
   ],
   "source": [
    "people.keys()"
   ]
  },
  {
   "cell_type": "code",
   "execution_count": 30,
   "metadata": {},
   "outputs": [
    {
     "data": {
      "text/plain": [
       "{'age': 100, 'phone': '082'}"
      ]
     },
     "execution_count": 30,
     "metadata": {},
     "output_type": "execute_result"
    }
   ],
   "source": [
    "people['Ben']"
   ]
  },
  {
   "cell_type": "markdown",
   "metadata": {},
   "source": [
    "### Numpy \n",
    "Above we saw that lists in Python behave very unlike matrix arrays. The numpy library provides just about all the matrix operations you'll ever need. You will use numpy a lot. Let us try a few simple examples."
   ]
  },
  {
   "cell_type": "code",
   "execution_count": 31,
   "metadata": {},
   "outputs": [
    {
     "name": "stdout",
     "output_type": "stream",
     "text": [
      "[[ 1.  2.  3.]\n",
      " [ 1.  1.  1.]]\n"
     ]
    }
   ],
   "source": [
    "A = np.array([[1.,2.,3.],[1,1,1]]) \n",
    "print (A)"
   ]
  },
  {
   "cell_type": "code",
   "execution_count": 32,
   "metadata": {},
   "outputs": [
    {
     "name": "stdout",
     "output_type": "stream",
     "text": [
      "(2, 3)\n"
     ]
    }
   ],
   "source": [
    "print (A.shape)"
   ]
  },
  {
   "cell_type": "markdown",
   "metadata": {},
   "source": [
    "It is a 2x3 matrix\n",
    "### Transpose"
   ]
  },
  {
   "cell_type": "code",
   "execution_count": 33,
   "metadata": {},
   "outputs": [
    {
     "name": "stdout",
     "output_type": "stream",
     "text": [
      "[[ 1.  1.]\n",
      " [ 2.  1.]\n",
      " [ 3.  1.]]\n"
     ]
    }
   ],
   "source": [
    "print (A.T)  # Easy way to get the transpose"
   ]
  },
  {
   "cell_type": "markdown",
   "metadata": {},
   "source": [
    "### Matrix multiplication. \n",
    "First define a vector $x$, we want to calculate the product $Ax$. This is done using the Numpy function, `dot`. \n",
    "### Note:\n",
    "* Matrix multiplication $AB$ consists of taking the dot products between the rows of $A$ and the columns of $B$."
   ]
  },
  {
   "cell_type": "code",
   "execution_count": 34,
   "metadata": {},
   "outputs": [
    {
     "data": {
      "text/plain": [
       "array([[ 6.],\n",
       "       [ 3.]])"
      ]
     },
     "execution_count": 34,
     "metadata": {},
     "output_type": "execute_result"
    }
   ],
   "source": [
    "x = np.array([[1],[1],[1]])\n",
    "A.dot(x)"
   ]
  },
  {
   "cell_type": "markdown",
   "metadata": {},
   "source": [
    "### Another example"
   ]
  },
  {
   "cell_type": "code",
   "execution_count": 35,
   "metadata": {},
   "outputs": [
    {
     "data": {
      "text/plain": [
       "array([[  9.,  11.],\n",
       "       [  4.,   5.]])"
      ]
     },
     "execution_count": 35,
     "metadata": {},
     "output_type": "execute_result"
    }
   ],
   "source": [
    "B = np.array([[1,1],[1,2],[2,2]])\n",
    "A.dot(B)"
   ]
  },
  {
   "cell_type": "markdown",
   "metadata": {},
   "source": [
    "### Be aware:\n",
    "There is one peculiarity that trips me up all the time. Look at the following example."
   ]
  },
  {
   "cell_type": "code",
   "execution_count": 36,
   "metadata": {},
   "outputs": [
    {
     "name": "stdout",
     "output_type": "stream",
     "text": [
      "(3,)\n"
     ]
    }
   ],
   "source": [
    "x = np.array([1,2,1])\n",
    "print (x.shape)\n"
   ]
  },
  {
   "cell_type": "code",
   "execution_count": 37,
   "metadata": {},
   "outputs": [
    {
     "name": "stdout",
     "output_type": "stream",
     "text": [
      "[1 2 1]\n"
     ]
    }
   ],
   "source": [
    "print (x)\n"
   ]
  },
  {
   "cell_type": "markdown",
   "metadata": {},
   "source": [
    "I guess this looks like a row vector. Let's try and take its transpose:"
   ]
  },
  {
   "cell_type": "code",
   "execution_count": 38,
   "metadata": {},
   "outputs": [
    {
     "name": "stdout",
     "output_type": "stream",
     "text": [
      "[1 2 1]\n"
     ]
    }
   ],
   "source": [
    "print (x.T)"
   ]
  },
  {
   "cell_type": "markdown",
   "metadata": {},
   "source": [
    "**Nothing happend!** \n",
    "It is because $x$ is not a matrix, more something akin to a list. It does not understand the notion of a \"row\" or a \"column\" vector.\n",
    "\n",
    "**There are different ways of fixing it.**"
   ]
  },
  {
   "cell_type": "code",
   "execution_count": 39,
   "metadata": {},
   "outputs": [
    {
     "name": "stdout",
     "output_type": "stream",
     "text": [
      "(1, 3)\n",
      "[[1 2 1]]\n"
     ]
    }
   ],
   "source": [
    "y = np.array([[1, 2, 1]])  # Define it to have two dimensions\n",
    "print (y.shape)\n",
    "print (y)"
   ]
  },
  {
   "cell_type": "markdown",
   "metadata": {},
   "source": [
    "$y$ is now a 1x3 matrix, i.e. a row vector"
   ]
  },
  {
   "cell_type": "code",
   "execution_count": 40,
   "metadata": {},
   "outputs": [
    {
     "name": "stdout",
     "output_type": "stream",
     "text": [
      "(3, 1)\n"
     ]
    }
   ],
   "source": [
    "print (y.T.shape)  # This is a column vector"
   ]
  },
  {
   "cell_type": "markdown",
   "metadata": {},
   "source": [
    "**Adding an axis**\n",
    "\n",
    "The following is the preferred way to add an axis.\n",
    "\n",
    "Note that one can add it in two different ways."
   ]
  },
  {
   "cell_type": "code",
   "execution_count": 41,
   "metadata": {},
   "outputs": [
    {
     "name": "stdout",
     "output_type": "stream",
     "text": [
      "y =  [[1]\n",
      " [2]\n",
      " [1]]\n",
      "z =  [[1 2 1]]\n"
     ]
    }
   ],
   "source": [
    "y = x[:,np.newaxis]\n",
    "print ('y = ',y)\n",
    "\n",
    "z = x[np.newaxis,:]\n",
    "print ('z = ',z)"
   ]
  },
  {
   "cell_type": "markdown",
   "metadata": {},
   "source": [
    "### Broadcasting\n",
    "This is an advanced topic but you should be aware that numpy tries to understand what you want to do (in a well-defined way), even if you are not strictly mathematically correct. A good introduction to broadcastig is at http://docs.scipy.org/doc/numpy-1.10.1/user/basics.broadcasting.html\n",
    "\n",
    "Since it is such a useful device, we'll spend some time on it, although probably not something one would normally include in a first introduction.\n",
    "\n",
    "**Note:**\n",
    "* Broadcasting allows one to write very concise, unreadable code. Use with care!\n",
    "\n",
    "**Example:**\n",
    "\n",
    "Start with simplest possible example. Earlier we defined a matrix $A$:"
   ]
  },
  {
   "cell_type": "code",
   "execution_count": 42,
   "metadata": {},
   "outputs": [
    {
     "name": "stdout",
     "output_type": "stream",
     "text": [
      "[[ 1.  2.  3.]\n",
      " [ 1.  1.  1.]]\n"
     ]
    }
   ],
   "source": [
    "print (A)"
   ]
  },
  {
   "cell_type": "markdown",
   "metadata": {},
   "source": [
    "We want to add  $1$ to all the elements of $A$. The correct (mathematical) way of doing it, is to add a matrix with all elements equal to $1$ of the same shape as $A$:"
   ]
  },
  {
   "cell_type": "code",
   "execution_count": 43,
   "metadata": {},
   "outputs": [
    {
     "name": "stdout",
     "output_type": "stream",
     "text": [
      "[[ 2.  3.  4.]\n",
      " [ 2.  2.  2.]]\n"
     ]
    }
   ],
   "source": [
    "print (A + np.ones(A.shape))"
   ]
  },
  {
   "cell_type": "markdown",
   "metadata": {},
   "source": [
    "### Success!\n",
    "There is however a much easier way of doing it, as you might have guessed:"
   ]
  },
  {
   "cell_type": "code",
   "execution_count": 44,
   "metadata": {},
   "outputs": [
    {
     "name": "stdout",
     "output_type": "stream",
     "text": [
      "[[ 2.  3.  4.]\n",
      " [ 2.  2.  2.]]\n"
     ]
    }
   ],
   "source": [
    "print (A+1)"
   ]
  },
  {
   "cell_type": "markdown",
   "metadata": {},
   "source": [
    "Mathematically $A+1$ makes no sense, but numpy understands what you want to do and broadcasts the scalar $1$ to an array of the correct dimensions so that matrix addition is defined.\n",
    "\n",
    "**In general**\n",
    "\n",
    "How does broadcasting work in general? Before we answer this question, it is useful to recall that the $+$ and $*$ operators in numpy both perform pointwise operations. This means we can illustrate all the ideas behind broadcasting using $+$. As a reminder: In order to do matrix multiplication one uses the `dot` method.\n",
    "\n",
    "How does broadcasting work if one wants to add two general multidimensional arrays? It is easy if they have the same dimensions, but for broadcasting they need not have the same dimensions, not even the same number of dimensions.\n",
    "\n",
    "The rule for broadcasting is the following: \n",
    "\n",
    "One starts at the back of the two arrays  and compare their dimensions element wise. The two dimensions are compatible, if\n",
    "\n",
    "1. The two dimensions are the same\n",
    "2. One of the two dimensions is 1. \n",
    "\n",
    "A few examples will make this clear.\n",
    "\n",
    "**Example 1**\n",
    "\n",
    "```\n",
    "A (2D array): 4 x 1\n",
    "B (1D array):     3\n",
    "Result:       4 x 3 array\n",
    "```\n",
    "Since $A$ is a column vector, its column is repeated 3 times resulting in an $4\\times 3$ array with identical columns. Then the  1D array $B$ is expanded into an $4\\times 3$ array where every *row* of the expanded $B$ is a copy of the original $B$. \n",
    "\n",
    "In reality numpy does not really do the expanding explicitly; it would be wasteful. But that is the idea. \n",
    "\n"
   ]
  },
  {
   "cell_type": "code",
   "execution_count": 45,
   "metadata": {},
   "outputs": [
    {
     "name": "stdout",
     "output_type": "stream",
     "text": [
      "A: (4, 1)\n",
      "B: (3,)\n",
      "A+B: (4, 3)\n",
      "[[2 3 4]\n",
      " [2 3 4]\n",
      " [2 3 4]\n",
      " [2 3 4]]\n"
     ]
    }
   ],
   "source": [
    "A = np.array([1,1,1,1])\n",
    "A = A[:,np.newaxis]\n",
    "B = np.array([1,2,3])\n",
    "print ('A:', A.shape)\n",
    "print ('B:', B.shape)\n",
    "print ('A+B:',(A+B).shape)\n",
    "print (A+B)"
   ]
  },
  {
   "cell_type": "markdown",
   "metadata": {},
   "source": [
    "**Example 2**\n",
    "\n",
    "```\n",
    "A (3D array):   2 x 1 x 2\n",
    "B (2D array):       3 x 1\n",
    "A+B (3D array): 2 x 3 x 2 \n",
    "```\n",
    "What happens in this case is that first $B$ is expanded into an $3\\times 2$ array by copying its column. Then it is expanded into an $2\\times 3 \\times 2$ array by copying the whole thing twice. Then $A$ is expanded into an $2\\times 3 \\times 2$ array, by copying itself 3 times. "
   ]
  },
  {
   "cell_type": "code",
   "execution_count": 46,
   "metadata": {},
   "outputs": [
    {
     "name": "stdout",
     "output_type": "stream",
     "text": [
      "A:   (2, 1, 2)\n",
      "B:      (3, 1)\n",
      "A+B: (2, 3, 2)\n",
      "[[[2 3]\n",
      "  [2 3]\n",
      "  [2 3]]\n",
      "\n",
      " [[4 5]\n",
      "  [4 5]\n",
      "  [4 5]]]\n"
     ]
    }
   ],
   "source": [
    "A = np.array([[1,2],[3,4]])\n",
    "A = A[:,np.newaxis,:]\n",
    "B = np.array([1,1,1])\n",
    "B = B[:,np.newaxis]\n",
    "print ('A:  ', A.shape)\n",
    "print ('B:     ', B.shape)\n",
    "print ('A+B:',(A+B).shape)\n",
    "print (A+B)"
   ]
  },
  {
   "cell_type": "markdown",
   "metadata": {},
   "source": [
    "Let us  do the expansions explicitly.\n",
    "\n",
    "$B$ first:"
   ]
  },
  {
   "cell_type": "code",
   "execution_count": 47,
   "metadata": {},
   "outputs": [],
   "source": [
    "#First expand into an 3x2 array\n",
    "Bexp = np.zeros((3,2))\n",
    "Bexp[:,0] = B[:,0]\n",
    "Bexp[:,1] = B[:,0]\n",
    "\n",
    "#Now expand into an 2x3x2 array\n",
    "Bfinal = np.zeros((2,3,2))\n",
    "Bfinal[0,:,:] = Bexp\n",
    "Bfinal[1,:,:] = Bexp"
   ]
  },
  {
   "cell_type": "markdown",
   "metadata": {},
   "source": [
    "Now we do the expansion for $A$, basically copying it 3 times:"
   ]
  },
  {
   "cell_type": "code",
   "execution_count": 48,
   "metadata": {},
   "outputs": [
    {
     "name": "stdout",
     "output_type": "stream",
     "text": [
      "A+B: [[[2 3]\n",
      "  [2 3]\n",
      "  [2 3]]\n",
      "\n",
      " [[4 5]\n",
      "  [4 5]\n",
      "  [4 5]]]\n"
     ]
    }
   ],
   "source": [
    "Aexp = np.zeros((2,3,2))\n",
    "Aexp[:,0,:] = A[:,0,:]\n",
    "Aexp[:,1,:] = A[:,0,:]\n",
    "Aexp[:,2,:] = A[:,0,:]\n",
    "print ('A+B:',A+B)"
   ]
  },
  {
   "cell_type": "markdown",
   "metadata": {},
   "source": [
    "Not so hard after all, although it can be a bit of headache to keep track of things in multi dimensions.\n",
    "\n",
    "**Hint:** It should normally be clear what the dimensions of your end result should be. Starting from that, it might not be so hard to figure out how the rest should be configured. You will probably need to add axes in the correct positions to make thing work out correctly."
   ]
  },
  {
   "cell_type": "markdown",
   "metadata": {},
   "source": [
    "### Operating system\n",
    "You also have access to your operating system commands, for example:"
   ]
  },
  {
   "cell_type": "code",
   "execution_count": 49,
   "metadata": {},
   "outputs": [
    {
     "data": {
      "text/plain": [
       "'/Users/herbst/teaching/TW364/python'"
      ]
     },
     "execution_count": 49,
     "metadata": {},
     "output_type": "execute_result"
    }
   ],
   "source": [
    "pwd"
   ]
  },
  {
   "cell_type": "code",
   "execution_count": 50,
   "metadata": {},
   "outputs": [
    {
     "name": "stdout",
     "output_type": "stream",
     "text": [
      "\u001b[31mDiscrete Fourier Transform (numpy.fft) ??? NumPy v1.8.pdf\u001b[m\u001b[m* convergence.ipynb                                          noisy_signal.npy\r\n",
      "Doppler.ipynb                                              \u001b[31mdoppler.py\u001b[m\u001b[m*                                                radar_sync.ipynb\r\n",
      "\u001b[31mFourier Transforms (scipy.fftpack) ??? SciPy v0.11.pdf\u001b[m\u001b[m*    \u001b[31mdoppler_basic.py\u001b[m\u001b[m*                                          \u001b[31mradial.py\u001b[m\u001b[m*\r\n",
      "\u001b[31mIPythonHintsAndTips.ipynb\u001b[m\u001b[m*                                 \u001b[34mdoppler_data\u001b[m\u001b[m/                                              \u001b[31mradial0.jpg\u001b[m\u001b[m*\r\n",
      "\u001b[31mMoon5.png\u001b[m\u001b[m*                                                 \u001b[31mdoppler_gauss.py\u001b[m\u001b[m*                                          radial_distortion.ipynb\r\n",
      "Python tutorial.ipynb                                      \u001b[31mf_series.py\u001b[m\u001b[m*                                               star.png\r\n",
      "Radon_examples.ipynb                                       fft_ex.ipynb                                               star2.png\r\n",
      "SVD_ex.ipynb                                               filter_ex.ipynb                                            star_blurred.npy\r\n",
      "Test 3_opl.ipynb                                           \u001b[31mheat.py\u001b[m\u001b[m*                                                   star_field.png\r\n",
      "aliasing.ipynb                                             heat_equation.ipynb                                        test3_17178223.ipynb\r\n",
      "assign5.ipynb                                              herbst_sign.png                                            trig-interp.ipynb\r\n",
      "central_limit.ipynb                                        motion_blur.ipynb\r\n",
      "conv_roots.ipynb                                           \u001b[31mmotion_blur.py\u001b[m\u001b[m*\r\n"
     ]
    }
   ],
   "source": [
    "ls"
   ]
  },
  {
   "cell_type": "markdown",
   "metadata": {
    "collapsed": true
   },
   "source": [
    "### A final example using functions and widgets\n",
    "\n",
    "We now turn to a nontrivial example illustrating both the use of functions, as well as widgets. At the same time it is a great demonstration of the difference between pointwise and uniform convergence.\n",
    "\n",
    "The sine series of the periodic function ($f(x)=f(x+2$),\n",
    "\n",
    "$$f(x) = \\left\\{ \\begin{array}{rc} -0.5 & -1<x<0\\\\ 0.5 & 0<x<1 \\end{array} \\right., $$\n",
    "is given by \n",
    "\n",
    "$$\n",
    "f(x) = \\sum_{n=1}^{\\infty} b_n \\sin(\\pi x),$$\n",
    "with\n",
    "$$b_n = \\frac{1}{n\\pi} (1-\\cos(n\\pi)).$$"
   ]
  },
  {
   "cell_type": "markdown",
   "metadata": {},
   "source": [
    "First we need to import the necessary widget.\n",
    "\n",
    "(I like to import everything I am going to need right at the beginning but it is clearly not necessary. It makes it easier for me to tell which libraries I am using, and easier to update if some of the libraries or functions inside the libraries, have been moved. Although it can be quite annoying, it happens rather frequently.)"
   ]
  },
  {
   "cell_type": "code",
   "execution_count": 51,
   "metadata": {},
   "outputs": [],
   "source": [
    "from ipywidgets import interact"
   ]
  },
  {
   "cell_type": "markdown",
   "metadata": {},
   "source": [
    "First we define the function that calculates the sum of the first $k$ terms of the sine series.\n",
    "\n",
    "The function calculates the sum of the first $k$ terms at points = 256 values evenly distributed over the interval $(-1,1)$, using the built-in numpy function, `linspace'.\n",
    "\n",
    "`range` is a built-in Python function and returns an integer array between the states limits."
   ]
  },
  {
   "cell_type": "code",
   "execution_count": 52,
   "metadata": {
    "collapsed": true
   },
   "outputs": [],
   "source": [
    "def jump(k  = 1):\n",
    "   \"\"\"The function calculates and plots the first k terms of the sine series\n",
    "      of a step function, jump size one.\n",
    "      \n",
    "      Parameters\n",
    "      ----------\n",
    "      k:   int\n",
    "           the number of terms included in the Fourier series\n",
    "           \n",
    "      Return\n",
    "      ------\n",
    "      A plot of the first k terms of the sime series.\n",
    "   \"\"\"\n",
    "   pi = np.pi\n",
    "   points = 256  # The number of spatial points\n",
    "\n",
    "   x = np.linspace(-pi,pi,points,endpoint=False)\n",
    "\n",
    "   f = np.sin(x)*(1.-np.cos(pi))/pi\n",
    "\n",
    "   for n in range(2,k+1):\n",
    "      f = f+np.sin(n*x)*(1.- (-1)**n)/(pi*n)\n",
    "   plt.plot(x,f)\n",
    "   plt.title('Fourier approximation, using '+str(k)+' terms',size=15)\n",
    "   plt.xlabel('x',size=25)     \n",
    "   plt.show()"
   ]
  },
  {
   "cell_type": "markdown",
   "metadata": {},
   "source": [
    "'interact' does exactly that: It interacts with the given function, 'jump' in this case, for parameter values in the specified range. Once you set the parameter value by sliding the bar, the function 'jump' is executed. Note therefore that the plotting is part of 'jump'. If not, nothing will be plotted and you won't see a thing!\n",
    "\n",
    "Could not be simpler!"
   ]
  },
  {
   "cell_type": "code",
   "execution_count": 53,
   "metadata": {
    "scrolled": false
   },
   "outputs": [
    {
     "data": {
      "image/png": "[encoded data removed]",
      "text/plain": [
       "<matplotlib.figure.Figure at 0x107246438>"
      ]
     },
     "metadata": {},
     "output_type": "display_data"
    }
   ],
   "source": [
    "w = interact(jump, k =(1, 64))"
   ]
  },
  {
   "cell_type": "code",
   "execution_count": null,
   "metadata": {
    "collapsed": true
   },
   "outputs": [],
   "source": []
  }
 ],
 "metadata": {
  "anaconda-cloud": {},
  "kernelspec": {
   "display_name": "Python [default]",
   "language": "python",
   "name": "python3"
  },
  "language_info": {
   "codemirror_mode": {
    "name": "ipython",
    "version": 3
   },
   "file_extension": ".py",
   "mimetype": "text/x-python",
   "name": "python",
   "nbconvert_exporter": "python",
   "pygments_lexer": "ipython3",
   "version": "3.6.4"
  }
 },
 "nbformat": 4,
 "nbformat_minor": 1
}
